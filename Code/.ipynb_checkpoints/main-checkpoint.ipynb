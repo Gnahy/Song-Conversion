{
 "cells": [
  {
   "cell_type": "code",
   "execution_count": null,
   "metadata": {
    "id": "kymO5f4-hbCp"
   },
   "outputs": [],
   "source": [
    "from google.colab import drive\n",
    "drive.mount('/content/drive')"
   ]
  },
  {
   "cell_type": "code",
   "execution_count": 1,
   "metadata": {
    "id": "pjO9tIusD9iu"
   },
   "outputs": [
    {
     "name": "stdout",
     "output_type": "stream",
     "text": [
      "Requirement already satisfied: pydub in c:\\users\\gnahy\\anaconda3\\envs\\demucs\\lib\\site-packages (0.25.1)\n"
     ]
    }
   ],
   "source": [
    "!pip install pydub"
   ]
  },
  {
   "cell_type": "code",
   "execution_count": 2,
   "metadata": {
    "id": "Guc4BKjlsAzi"
   },
   "outputs": [
    {
     "ename": "ModuleNotFoundError",
     "evalue": "No module named 'tensorflow'",
     "output_type": "error",
     "traceback": [
      "\u001b[1;31m---------------------------------------------------------------------------\u001b[0m",
      "\u001b[1;31mModuleNotFoundError\u001b[0m                       Traceback (most recent call last)",
      "\u001b[1;32m<ipython-input-2-161a99cea532>\u001b[0m in \u001b[0;36m<module>\u001b[1;34m\u001b[0m\n\u001b[1;32m----> 1\u001b[1;33m \u001b[1;32mfrom\u001b[0m \u001b[0mtensorflow\u001b[0m\u001b[1;33m.\u001b[0m\u001b[0mpython\u001b[0m\u001b[1;33m.\u001b[0m\u001b[0mclient\u001b[0m \u001b[1;32mimport\u001b[0m \u001b[0mdevice_lib\u001b[0m\u001b[1;33m\u001b[0m\u001b[1;33m\u001b[0m\u001b[0m\n\u001b[0m\u001b[0;32m      2\u001b[0m \u001b[0mdevice_lib\u001b[0m\u001b[1;33m.\u001b[0m\u001b[0mlist_local_devices\u001b[0m\u001b[1;33m(\u001b[0m\u001b[1;33m)\u001b[0m\u001b[1;33m\u001b[0m\u001b[1;33m\u001b[0m\u001b[0m\n",
      "\u001b[1;31mModuleNotFoundError\u001b[0m: No module named 'tensorflow'"
     ]
    }
   ],
   "source": [
    "from tensorflow.python.client import device_lib\n",
    "device_lib.list_local_devices()"
   ]
  },
  {
   "cell_type": "code",
   "execution_count": null,
   "metadata": {
    "id": "mRs-VrEev65q"
   },
   "outputs": [],
   "source": [
    "!pip install librosa==0.6.0"
   ]
  },
  {
   "cell_type": "code",
   "execution_count": null,
   "metadata": {
    "id": "skB4Xh47yeuc"
   },
   "outputs": [],
   "source": [
    "!pip install numba==0.48"
   ]
  },
  {
   "cell_type": "code",
   "execution_count": null,
   "metadata": {
    "id": "aKVgd03DCYas"
   },
   "outputs": [],
   "source": [
    "import numpy as np\n",
    "import pandas as pd\n",
    "import os\n",
    "from os import path\n",
    "from pydub import AudioSegment\n",
    "from scipy.io import wavfile\n",
    "import pywt"
   ]
  },
  {
   "cell_type": "code",
   "execution_count": null,
   "metadata": {
    "id": "wLxBAEv8dx05"
   },
   "outputs": [],
   "source": [
    "import tensorflow as tf\n",
    "tf.__version__"
   ]
  },
  {
   "cell_type": "code",
   "execution_count": null,
   "metadata": {
    "id": "eKP4aK5wS7sE"
   },
   "outputs": [],
   "source": [
    "from tensorflow.python.client import device_lib\n",
    "device_lib.list_local_devices()"
   ]
  },
  {
   "cell_type": "markdown",
   "metadata": {
    "id": "vUVx1y_hUvZl"
   },
   "source": [
    "# **Dataset Collection**"
   ]
  },
  {
   "cell_type": "code",
   "execution_count": null,
   "metadata": {
    "id": "8uHD5QYlVKFN"
   },
   "outputs": [],
   "source": [
    "!pip install youtube-dl"
   ]
  },
  {
   "cell_type": "code",
   "execution_count": null,
   "metadata": {
    "id": "SrAHwgNOXFmE"
   },
   "outputs": [],
   "source": [
    "from __future__ import unicode_literals\n",
    "import youtube_dl\n",
    "link = \"https://www.youtube.com/watch?v=scnryCQK1oU\"\n",
    "\n",
    "ydl_opts = {\n",
    "    'format': 'bestaudio/best',\n",
    "    'postprocessors': [{\n",
    "        'key': 'FFmpegExtractAudio',\n",
    "        'preferredcodec': 'wav',\n",
    "        'preferredquality': '320',\n",
    "    }],\n",
    "}\n",
    "\n",
    "with youtube_dl.YoutubeDL(ydl_opts) as ydl:\n",
    "    ydl.download([link])"
   ]
  },
  {
   "cell_type": "code",
   "execution_count": null,
   "metadata": {
    "colab": {
     "background_save": true
    },
    "id": "gJK7KSAjYnWT"
   },
   "outputs": [],
   "source": [
    "from shutil import copyfile\n",
    "src = \"/content/Ali Zafar _ Pehli Si Muhabbat _ Unplugged _ Official Video-scnryCQK1oU.wav\"\n",
    "dst = \"/content/drive/MyDrive/music_conversion/Ali_Pehli.wav\"\n",
    "copyfile(src, dst)"
   ]
  },
  {
   "cell_type": "markdown",
   "metadata": {
    "id": "EZ4c7LldtWoC"
   },
   "source": [
    "# **Vocal Separation (DEMUCS)**"
   ]
  },
  {
   "cell_type": "code",
   "execution_count": null,
   "metadata": {
    "id": "MtDIosn4SBUJ"
   },
   "outputs": [],
   "source": [
    "!python3 -m pip install -U lameenc"
   ]
  },
  {
   "cell_type": "code",
   "execution_count": null,
   "metadata": {
    "id": "AyJ4Mt1N7h8I"
   },
   "outputs": [],
   "source": [
    "!pip install julius\n",
    "!pip install torchaudio\n",
    "!pip install diffq"
   ]
  },
  {
   "cell_type": "code",
   "execution_count": null,
   "metadata": {
    "id": "8EFeqPDsgdbo"
   },
   "outputs": [],
   "source": [
    "# Path of input required, seperate vocals and store in demucs (4 files, one is vocal).\n",
    "# Copy the demucs folder to the root where are running code. This seperates vocals only. \n",
    "#!python3 -m demucs.separate --dl -n demucs /content/drive/MyDrive/LSE/project/songs/Jubin_new_vocals.wav\n",
    "!python3 -m demucs.separate /content/drive/MyDrive/music_conversion/Ali_Pehli.wav"
   ]
  },
  {
   "cell_type": "code",
   "execution_count": null,
   "metadata": {
    "id": "cALHG9GCYns8"
   },
   "outputs": [],
   "source": [
    "from shutil import copyfile\n",
    "src = \"/content/separated/demucs/Ali_Pehli/vocals.wav\"\n",
    "dst = \"/content/drive/MyDrive/music_conversion/vocals/Ali_Pehli_vocals.wav\"\n",
    "copyfile(src, dst)"
   ]
  },
  {
   "cell_type": "markdown",
   "metadata": {
    "id": "lLcia4F8tmRR"
   },
   "source": [
    "# **randomCNN-voice-transfer-master**"
   ]
  },
  {
   "cell_type": "code",
   "execution_count": null,
   "metadata": {
    "id": "kjgScT23VchP"
   },
   "outputs": [],
   "source": [
    "from pydub import AudioSegment\n",
    "t1 = 50000 #Works in milliseconds\n",
    "t2 = 70000\n",
    "newAudio = AudioSegment.from_wav(\"/content/drive/MyDrive/music_conversion/vocals/Yashal_Sajna_vocals.wav\")\n",
    "newAudio1 = newAudio[t1:t2]\n",
    "newAudio1.export('/content/yashal_new.wav', format=\"wav\") \n",
    "\n",
    "t3 = 50000\n",
    "t4 = 70000\n",
    "\n",
    "newAudio = AudioSegment.from_wav(\"/content/drive/MyDrive/music_conversion/vocals/Atif_Yakeen_vocals.wav\")\n",
    "newAudio1 = newAudio[t3:t4]\n",
    "newAudio1.export('/content/atif_new.wav', format=\"wav\") \n"
   ]
  },
  {
   "cell_type": "code",
   "execution_count": null,
   "metadata": {
    "id": "SU4cjrIPJrWF"
   },
   "outputs": [],
   "source": [
    "!CUDA_VISIBLE_DEVICES=0 python \"/content/drive/MyDrive/music_conversion/randomCNN-voice-transfer-master/train.py\" -content /content/yashal_new.wav -style /content/atif_new.wav"
   ]
  },
  {
   "cell_type": "code",
   "execution_count": null,
   "metadata": {
    "id": "M-HannAOISGh"
   },
   "outputs": [],
   "source": [
    "from shutil import copyfile\n",
    "copyfile(\"/content/Content_Spectrum.png\", \"/content/drive/MyDrive/music_conversion/res/Content_Spectrum.png\")\n",
    "copyfile(\"/content/Gen_Spectrum.png\", \"/content/drive/MyDrive/music_conversion/res/Gen_Spectrum.png\")\n",
    "copyfile(\"/content/loss_curve.png\", \"/content/drive/MyDrive/music_conversion/res/loss_curve.png\")\n",
    "copyfile(\"/content/output.wav\", \"/content/drive/MyDrive/music_conversion/res/output.wav\")\n",
    "copyfile(\"/content/Style_Spectrum.png\", \"/content/drive/MyDrive/music_conversion/res/Style_Spectrum.png\")\n",
    "#copyfile(\"/content/output.wav\", \"/content/drive/MyDrive/LSE/project/output.wav\")"
   ]
  }
 ],
 "metadata": {
  "accelerator": "GPU",
  "colab": {
   "collapsed_sections": [],
   "machine_shape": "hm",
   "name": "Copy of main_(1).ipynb",
   "provenance": []
  },
  "kernelspec": {
   "display_name": "Python 3",
   "language": "python",
   "name": "python3"
  },
  "language_info": {
   "codemirror_mode": {
    "name": "ipython",
    "version": 3
   },
   "file_extension": ".py",
   "mimetype": "text/x-python",
   "name": "python",
   "nbconvert_exporter": "python",
   "pygments_lexer": "ipython3",
   "version": "3.8.10"
  }
 },
 "nbformat": 4,
 "nbformat_minor": 1
}
