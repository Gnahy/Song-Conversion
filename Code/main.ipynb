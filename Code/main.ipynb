{
  "nbformat": 4,
  "nbformat_minor": 0,
  "metadata": {
    "colab": {
      "name": "Copy of main_(1).ipynb",
      "provenance": [],
      "collapsed_sections": [],
      "machine_shape": "hm"
    },
    "kernelspec": {
      "display_name": "Python 3",
      "name": "python3"
    },
    "accelerator": "GPU"
  },
  "cells": [
    {
      "cell_type": "code",
      "metadata": {
        "id": "kymO5f4-hbCp"
      },
      "source": [
        "from google.colab import drive\n",
        "drive.mount('/content/drive')"
      ],
      "execution_count": null,
      "outputs": []
    },
    {
      "cell_type": "code",
      "metadata": {
        "id": "pjO9tIusD9iu"
      },
      "source": [
        "!pip install pydub"
      ],
      "execution_count": null,
      "outputs": []
    },
    {
      "cell_type": "code",
      "metadata": {
        "id": "Guc4BKjlsAzi"
      },
      "source": [
        "from tensorflow.python.client import device_lib\n",
        "device_lib.list_local_devices()"
      ],
      "execution_count": null,
      "outputs": []
    },
    {
      "cell_type": "code",
      "metadata": {
        "id": "mRs-VrEev65q"
      },
      "source": [
        "!pip install librosa==0.6.0"
      ],
      "execution_count": null,
      "outputs": []
    },
    {
      "cell_type": "code",
      "metadata": {
        "id": "skB4Xh47yeuc"
      },
      "source": [
        "!pip install numba==0.48"
      ],
      "execution_count": null,
      "outputs": []
    },
    {
      "cell_type": "code",
      "metadata": {
        "id": "aKVgd03DCYas"
      },
      "source": [
        "import numpy as np\n",
        "import pandas as pd\n",
        "import os\n",
        "from os import path\n",
        "from pydub import AudioSegment\n",
        "from scipy.io import wavfile\n",
        "import pywt"
      ],
      "execution_count": 6,
      "outputs": []
    },
    {
      "cell_type": "code",
      "metadata": {
        "id": "wLxBAEv8dx05"
      },
      "source": [
        "import tensorflow as tf\n",
        "tf.__version__"
      ],
      "execution_count": null,
      "outputs": []
    },
    {
      "cell_type": "code",
      "metadata": {
        "id": "eKP4aK5wS7sE"
      },
      "source": [
        "from tensorflow.python.client import device_lib\n",
        "device_lib.list_local_devices()"
      ],
      "execution_count": null,
      "outputs": []
    },
    {
      "cell_type": "markdown",
      "metadata": {
        "id": "vUVx1y_hUvZl"
      },
      "source": [
        "# **Dataset Collection**"
      ]
    },
    {
      "cell_type": "code",
      "metadata": {
        "id": "8uHD5QYlVKFN"
      },
      "source": [
        "!pip install youtube-dl"
      ],
      "execution_count": null,
      "outputs": []
    },
    {
      "cell_type": "code",
      "metadata": {
        "id": "SrAHwgNOXFmE"
      },
      "source": [
        "from __future__ import unicode_literals\n",
        "import youtube_dl\n",
        "link = \"https://www.youtube.com/watch?v=scnryCQK1oU\"\n",
        "\n",
        "ydl_opts = {\n",
        "    'format': 'bestaudio/best',\n",
        "    'postprocessors': [{\n",
        "        'key': 'FFmpegExtractAudio',\n",
        "        'preferredcodec': 'wav',\n",
        "        'preferredquality': '320',\n",
        "    }],\n",
        "}\n",
        "\n",
        "with youtube_dl.YoutubeDL(ydl_opts) as ydl:\n",
        "    ydl.download([link])"
      ],
      "execution_count": null,
      "outputs": []
    },
    {
      "cell_type": "code",
      "metadata": {
        "id": "gJK7KSAjYnWT"
      },
      "source": [
        "from shutil import copyfile\n",
        "src = \"/content/Ali Zafar _ Pehli Si Muhabbat _ Unplugged _ Official Video-scnryCQK1oU.wav\"\n",
        "dst = \"/content/drive/MyDrive/music_conversion/Ali_Pehli.wav\"\n",
        "copyfile(src, dst)"
      ],
      "execution_count": null,
      "outputs": []
    },
    {
      "cell_type": "markdown",
      "metadata": {
        "id": "EZ4c7LldtWoC"
      },
      "source": [
        "# **Vocal Separation (DEMUCS)**"
      ]
    },
    {
      "cell_type": "code",
      "metadata": {
        "id": "MtDIosn4SBUJ"
      },
      "source": [
        "!python3 -m pip install -U lameenc"
      ],
      "execution_count": null,
      "outputs": []
    },
    {
      "cell_type": "code",
      "metadata": {
        "id": "AyJ4Mt1N7h8I"
      },
      "source": [
        "!pip install julius\n",
        "!pip install torchaudio\n",
        "!pip install diffq"
      ],
      "execution_count": null,
      "outputs": []
    },
    {
      "cell_type": "code",
      "metadata": {
        "id": "8EFeqPDsgdbo"
      },
      "source": [
        "# Path of input required, seperate vocals and store in demucs (4 files, one is vocal).\n",
        "# Copy the demucs folder to the root where are running code. This seperates vocals only. \n",
        "!python3 -m demucs.separate -n demucs /content/drive/MyDrive/music_conversion/Kinza_Sajna.wav\n",
        "#!python3 -m demucs.separate /content/drive/MyDrive/music_conversion/Kinza_Sajna.wav"
      ],
      "execution_count": null,
      "outputs": []
    },
    {
      "cell_type": "code",
      "metadata": {
        "id": "cALHG9GCYns8"
      },
      "source": [
        "from shutil import copyfile\n",
        "src = \"/content/separated/demucs/Kinza_Sajna/vocals.wav\"\n",
        "dst = \"/content/drive/MyDrive/music_conversion/vocals/Kinza_Sajna_vocals.wav\"\n",
        "copyfile(src, dst)"
      ],
      "execution_count": null,
      "outputs": []
    },
    {
      "cell_type": "markdown",
      "metadata": {
        "id": "lLcia4F8tmRR"
      },
      "source": [
        "# **randomCNN-voice-transfer-master**"
      ]
    },
    {
      "cell_type": "code",
      "metadata": {
        "id": "kjgScT23VchP"
      },
      "source": [
        "from pydub import AudioSegment\n",
        "t1 = 50000 #Works in milliseconds\n",
        "t2 = 70000\n",
        "\n",
        "newAudio = AudioSegment.from_wav(\"/content/drive/MyDrive/music_conversion/vocals/Yashal_Sajna_vocals.wav\")\n",
        "newAudio1 = newAudio[t1:t2]\n",
        "newAudio1.export('/content/yashal_new.wav', format=\"wav\") \n",
        "\n",
        "t3 = 50000\n",
        "t4 = 70000\n",
        "\n",
        "newAudio = AudioSegment.from_wav(\"/content/drive/MyDrive/music_conversion/vocals/Kinza_Sajna_vocals.wav\")\n",
        "newAudio1 = newAudio[t3:t4]\n",
        "newAudio1.export('/content/kinza_new.wav', format=\"wav\") \n",
        "\n"
      ],
      "execution_count": null,
      "outputs": []
    },
    {
      "cell_type": "code",
      "metadata": {
        "id": "SU4cjrIPJrWF"
      },
      "source": [
        "!CUDA_VISIBLE_DEVICES=0 python \"/content/drive/MyDrive/music_conversion/randomCNN-voice-transfer-master/train.py\" -content /content/yashal_new.wav -style /content/kinza_new.wav"
      ],
      "execution_count": null,
      "outputs": []
    },
    {
      "cell_type": "code",
      "metadata": {
        "id": "M-HannAOISGh"
      },
      "source": [
        "from shutil import copyfile\n",
        "copyfile(\"/content/Content_Spectrum.png\", \"/content/drive/MyDrive/music_conversion/res/Content_Spectrum.png\")\n",
        "copyfile(\"/content/Gen_Spectrum.png\", \"/content/drive/MyDrive/music_conversion/res/Gen_Spectrum.png\")\n",
        "copyfile(\"/content/loss_curve.png\", \"/content/drive/MyDrive/music_conversion/res/loss_curve.png\")\n",
        "copyfile(\"/content/output.wav\", \"/content/drive/MyDrive/music_conversion/res/output.wav\")\n",
        "copyfile(\"/content/Style_Spectrum.png\", \"/content/drive/MyDrive/music_conversion/res/Style_Spectrum.png\")\n",
        "#copyfile(\"/content/output.wav\", \"/content/drive/MyDrive/LSE/project/output.wav\")"
      ],
      "execution_count": null,
      "outputs": []
    },
    {
      "cell_type": "markdown",
      "metadata": {
        "id": "cZvj4lSNbxeH"
      },
      "source": [
        "# **Generating Voice Spectrums**"
      ]
    },
    {
      "cell_type": "code",
      "metadata": {
        "id": "OOMhHkz2_f0f"
      },
      "source": [
        "import librosa\n",
        "import numpy as np\n",
        "import matplotlib.pyplot as plt"
      ],
      "execution_count": 11,
      "outputs": []
    },
    {
      "cell_type": "code",
      "metadata": {
        "id": "te8KPVIVbdrQ"
      },
      "source": [
        "from pydub import AudioSegment\n",
        "t1 = 0 #Works in milliseconds\n",
        "t2 = 10000\n",
        "\n",
        "newAudio = AudioSegment.from_wav(\"/content/drive/MyDrive/music_conversion/Aima_Fitoor.wav\")\n",
        "newAudio1 = newAudio[t1:t2]\n",
        "newAudio1.export('/content/Aima_original.wav', format=\"wav\")"
      ],
      "execution_count": null,
      "outputs": []
    },
    {
      "cell_type": "code",
      "metadata": {
        "id": "KBFJtOiScPMf"
      },
      "source": [
        "x, sr = librosa.load('/content/Aima_original.wav')\n",
        "S = librosa.stft(x, 512)\n",
        "p = np.angle(S)\n",
        "\n",
        "S = np.log1p(np.abs(S))\n",
        "\n",
        "plt.figure(figsize=(5, 5))\n",
        "# we then use the 2nd column.\n",
        "plt.subplot(1, 1, 1)\n",
        "plt.title(\"Original Spectrum\")\n",
        "plt.imsave('Original Spectrum.png', S[:400, :])"
      ],
      "execution_count": null,
      "outputs": []
    },
    {
      "cell_type": "code",
      "metadata": {
        "id": "WFDHUQ6BZe3o"
      },
      "source": [
        "x, sr = librosa.load('/content/vocals.wav')\n",
        "S = librosa.stft(x, 512)\n",
        "p = np.angle(S)\n",
        "\n",
        "S = np.log1p(np.abs(S))\n",
        "\n",
        "plt.figure(figsize=(5, 5))\n",
        "# we then use the 2nd column.\n",
        "plt.subplot(1, 1, 1)\n",
        "plt.title(\"Vocal Spectrum\")\n",
        "plt.imsave('Vocal Spectrum.png', S[:400, :])"
      ],
      "execution_count": 8,
      "outputs": []
    },
    {
      "cell_type": "code",
      "metadata": {
        "id": "8C9M2cZpZzZW"
      },
      "source": [
        "x, sr = librosa.load('/content/drums.wav')\n",
        "S = librosa.stft(x, 512)\n",
        "p = np.angle(S)\n",
        "\n",
        "S = np.log1p(np.abs(S))\n",
        "\n",
        "plt.figure(figsize=(5, 5))\n",
        "# we then use the 2nd column.\n",
        "plt.subplot(5, 1, 1)\n",
        "plt.title(\"Drums Spectrum\")\n",
        "plt.imsave('Drums Spectrum.png', S[:400, :])\n",
        "\n",
        "####################################################\n",
        "x, sr = librosa.load('/content/bass.wav')\n",
        "S = librosa.stft(x, 512)\n",
        "p = np.angle(S)\n",
        "\n",
        "S = np.log1p(np.abs(S))\n",
        "\n",
        "plt.figure(figsize=(5, 5))\n",
        "# we then use the 2nd column.\n",
        "plt.subplot(1, 1, 1)\n",
        "plt.title(\"Bass Spectrum\")\n",
        "plt.imsave('Bass Spectrum.png', S[:400, :])\n",
        "\n",
        "###################################################\n",
        "x, sr = librosa.load('/content/other.wav')\n",
        "S = librosa.stft(x, 512)\n",
        "p = np.angle(S)\n",
        "\n",
        "S = np.log1p(np.abs(S))\n",
        "\n",
        "plt.figure(figsize=(5, 5))\n",
        "# we then use the 2nd column.\n",
        "plt.subplot(1, 1, 1)\n",
        "plt.title(\"Other Instruments Spectrum\")\n",
        "plt.imsave('Other Instruments Spectrum.png', S[:400, :])"
      ],
      "execution_count": null,
      "outputs": []
    },
    {
      "cell_type": "code",
      "metadata": {
        "id": "cNnfZyGjamZk"
      },
      "source": [
        ""
      ],
      "execution_count": null,
      "outputs": []
    }
  ]
}